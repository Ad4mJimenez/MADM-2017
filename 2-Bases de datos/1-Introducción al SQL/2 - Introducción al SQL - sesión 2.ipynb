{
 "cells": [
  {
   "cell_type": "markdown",
   "metadata": {
    "collapsed": true
   },
   "source": [
    "# Introducción a SQL: 2\n",
    "\n",
    "***\n",
    "<div class=\"panel panel-danger\">\n",
    "    <div class='panel-heading'>\n",
    "    <h4>Antes de empezar</h4>\n",
    "    </div>\n",
    "    <div class='panel-body'>\n",
    "    <p>Para poder ejecutar queries a la base de datos, necesitamos tener instalado antes el paquete [ipython-sql](https://github.com/catherinedevlin/ipython-sql).\n",
    "    \n",
    "    <p>Este paquete nos permite escribir las queries sql en las celdas del notebook y visualizar el resultado como tablas html renderizadas\n",
    "    <p>Ejecuta `!pip install ipython-sql` si es la primera vez que usas este notebook\n",
    "    </div>\n",
    "</div>"
   ]
  },
  {
   "cell_type": "code",
   "execution_count": null,
   "metadata": {
    "collapsed": true
   },
   "outputs": [],
   "source": [
    "!pip install ipython-sql"
   ]
  },
  {
   "cell_type": "markdown",
   "metadata": {},
   "source": [
    "Una vez instalado, podemos invocar el entorno `SQL` usando `%load_ext sql`.\n",
    "Esto nos permitira usar el magic de ipython `%%sql` al principo de **cada** celda y ejecutar comandos sql directamente"
   ]
  },
  {
   "cell_type": "markdown",
   "metadata": {},
   "source": [
    "<div class=\"panel panel-success\">\n",
    "    <div class='panel-heading'>\n",
    "    <h4>Empecemos</h4>\n",
    "    </div>\n",
    "</div>\n",
    "\n",
    "\n",
    "Los objetivos de este notebook son:\n",
    "\n"
   ]
  },
  {
   "cell_type": "markdown",
   "metadata": {},
   "source": [
    "# 1. Creando una base de datos\n",
    "\n",
    "En la sesión anterior vimos como hacer consultas básicas a una base de datos. En esta sesión veremos como podemos crear y modificar nuestra propia base de datos relacional de forma sencilla.\n",
    "\n",
    "Las tareas que necesitaremos saber se pueden resumir en:\n",
    "\n",
    "1. Crear tablas\n",
    "2. Modificar tablas\n",
    "3. Eliminar tablas\n",
    "\n",
    "Para empezar, cargaremos el modulo `sql` que nos permitirá hacer las consultas SQL directamente desde el notebook.\n",
    "\n",
    "Crear una base de datos `sqlite` es muy sencillo. Para ello, simplemente hay que escribir el comando sql pertinente que es:\n",
    "\n",
    "`%sql sqlite:///nombredelaBDD.sqlite`\n",
    "\n",
    "y nos creará el archivo donde podremos crear y modificar tablas."
   ]
  },
  {
   "cell_type": "markdown",
   "metadata": {},
   "source": [
    "#### Carga el modulo sql y crea una nueva base de datos sqlite\n",
    "\n",
    "```python\n",
    "%load_ext sql\n",
    "%sql sqlite:///newdb.sqlite\n",
    "\n",
    "#check table works and is empty\n",
    "%sql SELECT name FROM sqlite_master WHERE type='table'\n",
    "```"
   ]
  },
  {
   "cell_type": "code",
   "execution_count": null,
   "metadata": {},
   "outputs": [],
   "source": [
    "#copia y pega el snippet anterior\n",
    "%load_ext sql\n",
    "%sql sqlite:///newdb.sqlite\n",
    "\n",
    "#check table works and is empty\n",
    "%sql SELECT name FROM sqlite_master WHERE type='table'"
   ]
  },
  {
   "cell_type": "markdown",
   "metadata": {},
   "source": [
    "## Creando tablas\n",
    "\n",
    "### CREATE TABLE\n",
    "Para crear una tabla, escribimos:\n",
    "```SQL\n",
    "CREATE TABLE table_name ([schema])\n",
    "```\n",
    "\n",
    "### INSERT INTO\n",
    "Para insertar valores en una tabla existente\n",
    "\n",
    "```SQL\n",
    "INSERT INTO table_name ([column]) VALUES ([values]);\n",
    "```\n",
    "\n",
    "### DROP TABLE\n",
    "Para eliminar una tabla existente\n",
    "\n",
    "```SQL\n",
    "DROP TABLE IF EXISTS table_name\n",
    "```\n",
    "\n",
    "**Ojo!:**\n",
    " - Cuando trabajamos con cadenas de caracteres 'hola' debemos usar comillas simples.  (SQLite and MySQL no importa, Postgres (aws-redshift) sí!\n",
    " - Si no especificamos la PK cuando insertamos una fila, se asignará una PK automáticamente. Si intentamos crear una nueva fila con un PK que ya existe en la tabla, nos devolverá un error.\n",
    " - Es una buena práctica preceder la creación de una tabla con la eliminación de la misma, just in case! \n",
    "\n",
    "\n",
    "## Schemas\n",
    "SQL es tipado. Eso implica que cada columna de la tabla debe tener un tipo de datos específico. Al crear la tabla, deberemos especificar el **tipo** y otros atributos. Los tipos y atributos básicos son:\n",
    "\n",
    "- `INTEGER` (or `INT`): integer-valued numeric data\n",
    "- `FLOAT`: non-integer numeric data\n",
    "- `TEXT`: strings or textual data\n",
    "- `DATE`: a date object\n",
    "\n",
    "Columns can have optional attributes:\n",
    "\n",
    "- `PRIMARY KEY`: Especifica la clave primaria.\n",
    "- `NOT NULL`: Por defecto, los valores de una columna pueden ser nulos. `NOT NULL` obliga a la tabla a que todos los valores de la columna sean especificados.\n",
    "- `DEFAULT`: specify the default value in this column.\n",
    "\n",
    "### Ejemplo\n",
    "\n",
    "Elimina la tabla alumnos si existe y la crea con tres campos: id_alumno, nombre, y edad. El nombre no puede ser nulo mientras que la edad es opcional.\n",
    "\n",
    "```SQL\n",
    "DROP TABLE IF EXISTS alumnos;\n",
    "CREATE TABLE alumnos (\n",
    "    id_alumno INTEGER PRIMARY KEY,\n",
    "    nombre TEXT NOT NULL,\n",
    "    edad INT\n",
    ");\n",
    "\n",
    "INSERT INTO alumnos (nombre) VALUES ('Otelo');\n",
    "INSERT INTO alumnos (nombre, edad) VALUES ('Desdémona', 20);\n",
    "\n",
    "SELECT * FROM alumnos;\n",
    "```\n",
    "Si quisieramos que la edad tuviera un valor por defecto, deberíamos añadir el atributo `DEFAULT` seguido del valor por defecto. "
   ]
  },
  {
   "cell_type": "markdown",
   "metadata": {},
   "source": [
    "#### Ejercicio 1: Crea la tabla anterior y haz que la edad tenga por defecto un valor de -1"
   ]
  },
  {
   "cell_type": "code",
   "execution_count": null,
   "metadata": {
    "scrolled": true
   },
   "outputs": [],
   "source": [
    "%%sql"
   ]
  },
  {
   "cell_type": "markdown",
   "metadata": {},
   "source": [
    "## Modificar tablas\n",
    "\n",
    "Existen queries que nos permiten modificar tablas.\n",
    "\n",
    "```SQL\n",
    "DELETE FROM table_name [WHERE condition]\n",
    "```\n",
    "\n",
    "Elimina las filas de la tabla especificada segun la condición.\n",
    "\n",
    "```SQL\n",
    "UPDATE table_name SET column_name1=value [WHERE condition]\n",
    "```\n",
    "\n",
    "Actualiza los valores de la columna especificada. Podemos especificar condiciones, por ejemplo, a que identificador lo queremos cambiar o imputar valores nulos de forma persistente.\n",
    "\n",
    "Si queremos modificar columnas, los comandos son:\n",
    "\n",
    "```SQL\n",
    "ALTER TABLE table_name DROP COLUMN column_name (no soportado en sqlite)\n",
    "```\n",
    "\n",
    "```SQL\n",
    "ALTER TABLE table_name ADD COLUMN column_name column_type;\n",
    "```\n"
   ]
  },
  {
   "cell_type": "markdown",
   "metadata": {},
   "source": [
    "#### Ejercicio 2: En la tabla alumnos que has creado en el Ejercicio 1, actualiza la edad de Otelo a 23"
   ]
  },
  {
   "cell_type": "code",
   "execution_count": null,
   "metadata": {
    "scrolled": true
   },
   "outputs": [],
   "source": [
    "%%sql"
   ]
  },
  {
   "cell_type": "markdown",
   "metadata": {},
   "source": [
    "#### Ejercicio 3: En la tabla alumnos, añade la columna `genero` con el valor que corresponde a cada uno de los dos personajes"
   ]
  },
  {
   "cell_type": "code",
   "execution_count": null,
   "metadata": {},
   "outputs": [],
   "source": [
    "%%sql\n"
   ]
  },
  {
   "cell_type": "markdown",
   "metadata": {},
   "source": [
    "#### Ejercicio 4: En la tabla alumnos, elimina la entrada de Desdemona y añade una nueva"
   ]
  },
  {
   "cell_type": "code",
   "execution_count": null,
   "metadata": {},
   "outputs": [],
   "source": [
    "%%sql\n"
   ]
  },
  {
   "cell_type": "markdown",
   "metadata": {},
   "source": [
    "#### Ejercicio 5: Haz una query a toda la tabla y guardala en un csv usando pandas"
   ]
  },
  {
   "cell_type": "code",
   "execution_count": null,
   "metadata": {
    "collapsed": true
   },
   "outputs": [],
   "source": [
    "import sqlite3"
   ]
  },
  {
   "cell_type": "markdown",
   "metadata": {},
   "source": [
    "## Creando tablas SQL: Un atajo con pandas\n",
    "\n",
    "A estas alturas ya deberíamos estar convenvidos de que pandas es una herramienta increible en muchos aspectos. Uno de ellos es que nos permite crear tablas en bases de datos de forma automática. Si tenemos un pandas.DataFrame() y una conexión a una base de datos, pandas nos creara de forma automática las queries necesarias para crear el esquema y la tabla e insertar todas las filas.\n",
    "\n",
    "```python\n",
    "import pandas as pd\n",
    "import sqlite3\n",
    "\n",
    "conn = sqlite3.connect('newdb.sqlite')\n",
    "\n",
    "df = pd.read_csv('somedata.csv')\n",
    "df.to_sql('table_name', conn, if_exists= \"replace\", index=False)\n",
    "```\n",
    "\n"
   ]
  },
  {
   "cell_type": "markdown",
   "metadata": {},
   "source": [
    "#### Ejercicio 6: Crea una base de datos nueva `bdd_notas.sqlite`, lee los ficheros csv de la carpeta `data` y crea las tablas estudiantes, asignaturas y notas."
   ]
  },
  {
   "cell_type": "code",
   "execution_count": null,
   "metadata": {
    "collapsed": true
   },
   "outputs": [],
   "source": []
  },
  {
   "cell_type": "markdown",
   "metadata": {},
   "source": [
    "# 2. SQL\n",
    "---\n",
    "\n",
    "## Query básica\n",
    "\n",
    "En resumen, la query básica para leer datos de **Una** tabla de nuestra base de datos sería:\n",
    "\n",
    "```SQL\n",
    "SELECT expression1, expression2, ...\n",
    "FROM table_name\n",
    "[WHERE condition]\n",
    "[GROUP BY columns]\n",
    "[HAVING condition]\n",
    "[ORDER BY columns]\n",
    "[LIMIT number];\n",
    "```\n",
    "\n",
    "---\n",
    "\n",
    "## Joins\n",
    "\n",
    "Esta opción nos permite combinar información de distintas tablas y hacer consultas sobre este nuevo conjunto.\n",
    "\n",
    "### Inner JOIN\n",
    "\n",
    "Nos devuelve la intersección de las tablas seleccionadas, es decir, aquellas filas donde las distintas columnas tienen valores no nulos.\n",
    "\n",
    "```SQL\n",
    "SELECT a.col1,\n",
    "       a.col2,\n",
    "       b.col1,\n",
    "       b.col2\n",
    "FROM table_a as a\n",
    "INNER JOIN table_be as b\n",
    "ON a.key = b.key\n",
    "```\n",
    "\n",
    "### LEFT JOIN\n",
    "\n",
    "El comando LEFT JOIN devuelve todos lor registros de la tabla de la izquierda (LEFT) y los registros correspondientes de la otra tabla, en caso en que no existan devuelve NULL.\n",
    "\n",
    "```SQL\n",
    "SELECT a.col1,\n",
    "       a.col2,\n",
    "       b.col1,\n",
    "       b.col2\n",
    "FROM table_a as a\n",
    "LEFT JOIN table_be as b\n",
    "ON a.key = b.key\n",
    "```\n",
    "\n"
   ]
  },
  {
   "cell_type": "code",
   "execution_count": null,
   "metadata": {},
   "outputs": [],
   "source": [
    "import pandas as pd\n",
    "import sqlite3\n",
    "\n",
    "conn = sqlite3.connect('bdd_notas.sqlite')\n",
    "\n",
    "query = \"\"\"\n",
    "SELECT name FROM sqlite_master WHERE type='table'\n",
    "\"\"\"\n",
    "\n",
    "df = pd.read_sql(query, conn)\n",
    "df"
   ]
  },
  {
   "cell_type": "markdown",
   "metadata": {},
   "source": [
    "#### Ejercicio 0: Saca la primera fila con todas las columnas de cada una de las tablas "
   ]
  },
  {
   "cell_type": "markdown",
   "metadata": {},
   "source": [
    "#### Ejercicio 1: Haz un LEFT JOIN de todas las tablas"
   ]
  },
  {
   "cell_type": "code",
   "execution_count": null,
   "metadata": {
    "collapsed": true
   },
   "outputs": [],
   "source": [
    "query = \"\"\" Aqui la query \"\"\"\n",
    "\n",
    "pd.read_sql(query, conn)"
   ]
  },
  {
   "cell_type": "markdown",
   "metadata": {},
   "source": [
    "#### Ejercicio 2: Qué asignatura que tiene peor nota media de todas?"
   ]
  },
  {
   "cell_type": "code",
   "execution_count": null,
   "metadata": {
    "collapsed": true
   },
   "outputs": [],
   "source": [
    "query = \"\"\" Aqui la query \"\"\"\n",
    "\n",
    "pd.read_sql(query, conn)"
   ]
  },
  {
   "cell_type": "markdown",
   "metadata": {},
   "source": [
    "#### Ejercicio 3: Que estudiantes tienen una nota media menor que 5. Agrupalo por años."
   ]
  },
  {
   "cell_type": "code",
   "execution_count": null,
   "metadata": {
    "collapsed": true
   },
   "outputs": [],
   "source": [
    "query = \"\"\" Aqui la query \"\"\"\n",
    "\n",
    "pd.read_sql(query, conn)"
   ]
  },
  {
   "cell_type": "markdown",
   "metadata": {},
   "source": [
    "#### Ejercicio 4: Que asignaturas son las peores de cada año? Haz una query para cada año."
   ]
  },
  {
   "cell_type": "code",
   "execution_count": null,
   "metadata": {},
   "outputs": [],
   "source": [
    "# 2015\n",
    "query = \"\"\" Aquí la query\"\"\"\n",
    "\n",
    "pd.read_sql(query, conn)"
   ]
  },
  {
   "cell_type": "code",
   "execution_count": null,
   "metadata": {
    "collapsed": true
   },
   "outputs": [],
   "source": [
    "# 2016\n",
    "\n",
    "query = \"\"\" Aquí la query\"\"\"\n",
    "\n",
    "pd.read_sql(query, conn)"
   ]
  },
  {
   "cell_type": "code",
   "execution_count": null,
   "metadata": {
    "collapsed": true
   },
   "outputs": [],
   "source": [
    "# 2017\n",
    "\n",
    "query = \"\"\" Aquí la query\"\"\"\n",
    "\n",
    "pd.read_sql(query, conn)"
   ]
  },
  {
   "cell_type": "markdown",
   "metadata": {},
   "source": [
    "### UNION and UNION ALL\n",
    "\n",
    "Estos comando se usan para unir tablas o resultados de consultas que tienen las mismas columnas.\n",
    "La diferencia entre `UNION` y `UNION ALL` es que la primera elimina los registros duplicados mientras que la última no.\n",
    "\n",
    "Cómo puedes imaginar, estos comandos se pueden usar para filtrar y agregar.\n",
    "\n",
    "La sintaxis básica es:\n",
    "\n",
    "```SQL\n",
    "(SELECT statement)\n",
    " UNION [ALL]\n",
    "(SELECT STATEMENT)```\n",
    "\n",
    "\n",
    "Recuerda que las SELECT deben tener el mismo número de columnas."
   ]
  },
  {
   "cell_type": "markdown",
   "metadata": {},
   "source": [
    "#### Ejercicio 4.b: Realiza la misma consulta que en el Ejercicio 4 pero en una sola query usando UNION ALL"
   ]
  },
  {
   "cell_type": "code",
   "execution_count": null,
   "metadata": {},
   "outputs": [],
   "source": [
    "query = \"\"\" Aquí la query \"\"\"\n",
    "\n",
    "pd.read_sql(query, conn)"
   ]
  },
  {
   "cell_type": "markdown",
   "metadata": {},
   "source": [
    "Imagina que tenemos 15 años distintos. Sería una tarea un tanto repetitiva la de picar a mano una query que nos devolviera lo mismo la peor asignatura de cada año.\n",
    "\n",
    "Una de las ventajas de integrar el flujo de SQL en python (pandas) es que podemos hacer este tipo de tareas de forma programática.\n",
    "\n",
    "Vamos a intentar automatizar el proceso. De esta forma, si hay alguna nueva entrada en la tabla o base de datos, al volver a ejecutar este trozo tendremos el resultado actualizado"
   ]
  },
  {
   "cell_type": "code",
   "execution_count": null,
   "metadata": {},
   "outputs": [],
   "source": [
    "# Haz una query que te devuelva todos los años distintos de la tabla notas\n",
    "\n",
    "query_years = \"\"\" \"\"\"\n",
    "years_unique = pd.read_sql(query_years, conn)\n",
    "\n",
    "#1. Inicializa una lista vacia\n",
    "\n",
    "#2. Haz un barrido para todas los años en la columna year de years_unique.\n",
    "#     2.a Escribe una query donde le pases como variable el año. (Tip: \"Hola {j}\".foógicarmat(j='juan'))\n",
    "#     2.b Realiza una consulta a la BDD con la query y guarda el resultado en un df\n",
    "#     2.c Guarda el resultado en el último puesto de la lista (Tip: append())\n",
    "\n",
    "#3. Haz una concatenación de los df en la lista (TIP: pd.concat())\n",
    "\n",
    "#4. Haz un print del resultado"
   ]
  },
  {
   "cell_type": "markdown",
   "metadata": {},
   "source": [
    "## Subqueries\n",
    "\n",
    "En el ejemplo anterior, podríamos haber decidido que en vez de filtrar año a año y unir las tablas lo que nos resulta más eficiente es primero realizar una agregación por año y asignatura para después realizar un filtrado del resultado y quedarnos con el menor.\n",
    "\n",
    "SQL permite realizar este tipo de acciones mediante el anidado de queries. Es decir, sustituir alguno de los campos en la query por otra query que nos haga un primer filtrado.\n",
    "\n",
    "Por ejemplo,\n",
    "\n",
    "```SQL\n",
    "\n",
    "SELECT nota\n",
    "FROM notas\n",
    "WHERE asign_id = (SELECT asign_id\n",
    "                  FROM asignaturas\n",
    "                  WHERE asignatura='Mates')\n",
    "```\n",
    "\n",
    "Nos devolvería las notas de la asignatura de matemáticas."
   ]
  },
  {
   "cell_type": "markdown",
   "metadata": {},
   "source": [
    "#### Ejercicio 5: Encuentra la peor asignatura de cada año:\n",
    "1. 5a: Realiza una query que devuelva la media de cada asignatura por año y comprueba que funciona\n",
    "1. 5b: Usa la consulta del punto anterior como tabla en el FROM y devuelve la menor de las notas de cada año"
   ]
  },
  {
   "cell_type": "code",
   "execution_count": null,
   "metadata": {
    "collapsed": true
   },
   "outputs": [],
   "source": []
  },
  {
   "cell_type": "code",
   "execution_count": null,
   "metadata": {
    "collapsed": true
   },
   "outputs": [],
   "source": []
  },
  {
   "cell_type": "markdown",
   "metadata": {},
   "source": [
    "#### Ejercicio 6: Que estudiantes no se han presentado a ningún examen?"
   ]
  },
  {
   "cell_type": "code",
   "execution_count": null,
   "metadata": {
    "collapsed": true
   },
   "outputs": [],
   "source": []
  },
  {
   "cell_type": "markdown",
   "metadata": {},
   "source": [
    "#### Ejercicio 7: Quienes son los mejores estudiantes de cada asignatura de cada año?"
   ]
  },
  {
   "cell_type": "code",
   "execution_count": null,
   "metadata": {
    "collapsed": true
   },
   "outputs": [],
   "source": []
  }
 ],
 "metadata": {
  "kernelspec": {
   "display_name": "Python 3",
   "language": "python",
   "name": "python3"
  },
  "language_info": {
   "codemirror_mode": {
    "name": "ipython",
    "version": 3
   },
   "file_extension": ".py",
   "mimetype": "text/x-python",
   "name": "python",
   "nbconvert_exporter": "python",
   "pygments_lexer": "ipython3",
   "version": "3.6.1"
  }
 },
 "nbformat": 4,
 "nbformat_minor": 2
}
