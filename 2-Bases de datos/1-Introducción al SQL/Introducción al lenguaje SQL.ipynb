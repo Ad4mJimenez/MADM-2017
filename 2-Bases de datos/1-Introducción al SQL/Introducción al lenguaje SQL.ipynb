{
 "cells": [
  {
   "cell_type": "markdown",
   "metadata": {},
   "source": [
    "# Introducción a SQL\n",
    "***\n",
    "<div class=\"panel panel-danger\">\n",
    "    <div class='panel-heading'>\n",
    "    <h4>Antes de empezar</h4>\n",
    "    </div>\n",
    "    <div class='panel-body'>\n",
    "    <p>Para poder ejecutar queries a la base de datos, necesitamos tener instalado antes el paquete [ipython-sql](https://github.com/catherinedevlin/ipython-sql).\n",
    "    \n",
    "    <p>Este paquete nos permite escribir las queries sql en las celdas del notebook y visualizar el resultado como tablas html renderizadas\n",
    "    <p>Ejecuta `!pip install ipython-sql` si es la primera vez que usas este notebook\n",
    "    </div>\n",
    "</div>"
   ]
  },
  {
   "cell_type": "code",
   "execution_count": null,
   "metadata": {
    "collapsed": true
   },
   "outputs": [],
   "source": [
    "!pip install ipython-sql"
   ]
  },
  {
   "cell_type": "markdown",
   "metadata": {},
   "source": [
    "Una vez instalado, podemos invocar el entorno `SQL` usando `%load_ext sql`.\n",
    "Esto nos permitira usar el magic de ipython `%%sql` al principo de **cada** celda y ejecutar comandos sql directamente"
   ]
  },
  {
   "cell_type": "code",
   "execution_count": 2,
   "metadata": {},
   "outputs": [
    {
     "data": {
      "text/plain": [
       "'Connected: None@bdd_notas.sqlite'"
      ]
     },
     "execution_count": 2,
     "metadata": {},
     "output_type": "execute_result"
    }
   ],
   "source": [
    "# Esto carga el paquete instalado y nos conecta con la base de datos contenida en el fichero \"bdd_notas.sqlite\"\n",
    "%load_ext sql\n",
    "%sql sqlite:///bdd_notas.sqlite"
   ]
  },
  {
   "cell_type": "markdown",
   "metadata": {},
   "source": [
    "<div class=\"panel panel-success\">\n",
    "    <div class='panel-heading'>\n",
    "    <h4>Empecemos</h4>\n",
    "    </div>\n",
    "</div>\n",
    "\n",
    "\n",
    "Los objetivos de este notebook son:\n",
    "\n",
    "1. Entender la sintaxis SQL básica\n",
    "2. Entender la diferencia entre \"inner\", “left”, “right” y “full” joins\n",
    "3. Entender groupings y como se conectan a las funciones de agregación\n",
    "4. Como ejecutar queries SQL y guardar los resultados en pandas.DataFrame()"
   ]
  },
  {
   "cell_type": "markdown",
   "metadata": {
    "collapsed": true
   },
   "source": [
    "# 1. SQL: sintaxis básica\n",
    "\n",
    "### Nombres clave:\n",
    "\n",
    "- Relational database\n",
    "- Table\n",
    "- Row\n",
    "- Column\n",
    "- (Primary key)\n",
    "- (Foreign key)\n",
    "\n",
    "### Verbos clave:\n",
    "\n",
    "* `CREATE TABLE`, `DROP TABLE`: Crear o eliminar tablas\n",
    "* <span style=\"color:green\">SELECT:</span>: Seleccionar las columnas deseadas de la tabla\n",
    "* `INSERT` / `UPDATE` / `DELETE`: para crear, modificar, o borrar filas de una tabla\n",
    "\n",
    "### Modificadores clave:\n",
    "* <span style=\"color:green\">WHERE</span>: imponer una condición/filtro sobre los valores de las columnas\n",
    "* <span style=\"color:green\">ORDER BY</span>: ordenar\n",
    "* <span style=\"color:green\">GROUP BY</span>: agregar los valores por un campo\n",
    "* <span style=\"color:green\">JOIN</span>: combinar tablas en una query\n",
    "* <span style=\"color:green\">HAVING</span>: impone una condición/filtro sobre valores agregados por el `GROUP BY`\n",
    "* <span style=\"color:green\">LIMIT</span>: el límite de valores que queremos sacar\n",
    "\n",
    "Las queries en SQL se ejecutan contra una base de datos combinando los diferentes verbos y los modificadores clave.\n",
    "\n",
    "Al principio de éste notebook nos hemos conectado a una base de datos de juguete para practicar como construir queries. Existen las siguientes columnas:\n",
    "\n",
    "Columnas|\n",
    ":--------:|\n",
    "estudiantes  | \n",
    "asignaturas | \n",
    "notas |"
   ]
  },
  {
   "cell_type": "markdown",
   "metadata": {},
   "source": [
    "### 1. Seleccionar valores de columnas\n",
    "\n",
    "```SQL\n",
    "SELECT column_name1,\n",
    "       column_name2\n",
    "FROM table_name\n",
    "[LIMIT 100];\n",
    "```\n",
    "Si en SELECT indicamos un \\*, apareceran todas las columnas\n",
    "\n",
    "LIMIT va entre entre braquets para indicar un campo opcional"
   ]
  },
  {
   "cell_type": "code",
   "execution_count": 14,
   "metadata": {},
   "outputs": [
    {
     "name": "stdout",
     "output_type": "stream",
     "text": [
      "Done.\n"
     ]
    },
    {
     "data": {
      "text/html": [
       "<table>\n",
       "    <tr>\n",
       "        <th>student_id</th>\n",
       "        <th>name</th>\n",
       "    </tr>\n",
       "    <tr>\n",
       "        <td>101</td>\n",
       "        <td>Juan</td>\n",
       "    </tr>\n",
       "    <tr>\n",
       "        <td>102</td>\n",
       "        <td>Maria</td>\n",
       "    </tr>\n",
       "    <tr>\n",
       "        <td>103</td>\n",
       "        <td>Pedro</td>\n",
       "    </tr>\n",
       "</table>"
      ],
      "text/plain": [
       "[(101, 'Juan'), (102, 'Maria'), (103, 'Pedro')]"
      ]
     },
     "execution_count": 14,
     "metadata": {},
     "output_type": "execute_result"
    }
   ],
   "source": [
    "%%sql\n",
    "\n",
    "SELECT *\n",
    "FROM estudiantes\n",
    "LIMIT 3"
   ]
  },
  {
   "cell_type": "markdown",
   "metadata": {},
   "source": [
    "Ejercicio: Devuelve todos los campos de la tabla `notas`. Limita la salida a 5 elementos"
   ]
  },
  {
   "cell_type": "code",
   "execution_count": null,
   "metadata": {
    "collapsed": true
   },
   "outputs": [],
   "source": []
  }
 ],
 "metadata": {
  "kernelspec": {
   "display_name": "Python 3",
   "language": "python",
   "name": "python3"
  },
  "language_info": {
   "codemirror_mode": {
    "name": "ipython",
    "version": 3
   },
   "file_extension": ".py",
   "mimetype": "text/x-python",
   "name": "python",
   "nbconvert_exporter": "python",
   "pygments_lexer": "ipython3",
   "version": "3.6.1"
  }
 },
 "nbformat": 4,
 "nbformat_minor": 2
}
