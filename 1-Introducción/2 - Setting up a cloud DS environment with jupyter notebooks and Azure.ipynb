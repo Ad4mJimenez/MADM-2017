{
 "cells": [
  {
   "cell_type": "markdown",
   "metadata": {
    "collapsed": true
   },
   "source": [
    "# Los DS estamos siempre en las nubes\n",
    "\n",
    "En esta parte de la sesión aprenderemos a como:\n",
    "\n",
    "1. Crearnos una cuenta de Microsoft Azure\n",
    "\n",
    "2. Lanzar una máquina virtual con lo necesario para comenzar a hacer análisis de datos\n",
    "\n",
    "3. Como conectarnos a nuestra instancia via ssh usando mobaXTerm\n",
    "\n",
    "4. Como conectarnos al jupyter notebook de nuestra máquina via el navegador web\n",
    "\n",
    "No olvidéis que los servicios de Azure no son gratuitos y se facturan por minuto. Acuerdate de apagar la instancia una vez hayamos terminado de trabajar sobre ella para evitar ataques cardíacos."
   ]
  },
  {
   "cell_type": "markdown",
   "metadata": {},
   "source": [
    "## 1. Crearnos una cuenta en Microsof Azure\n",
    "\n",
    "1. Ves a [https://azure.microsoft.com/](https://azure.microsoft.com/) y create una cuenta nueva. \n",
    "1. Inicia sesión y dirígete a tu dashboard en [portal.azure.com](https://portal.azure.com)"
   ]
  },
  {
   "cell_type": "markdown",
   "metadata": {},
   "source": [
    "## 2. Lanzar una máquina virtual con lo necesario para comenzar a hacer análisis de datos\n",
    "\n",
    "* Una vez estamos en el dashboard de nuestra sesión, en el panel de la izquierda le damos a *new*\n",
    "\n",
    "<img src=\"img/1-AzureVM/1-Azure-Dashboard.png\">\n",
    "\n",
    "* En la barra de busqueda escribimos \"Data science ubuntu\" y seleccionamos el item señalado\n",
    "\n",
    "<img src=\"img/1-AzureVM/2-Azure-SearchBar.png\">\n",
    "\n",
    "* **Basics**: Rellenamos la información que nos pide. Son importantes sobre todo los campos de nombre de usuario y contraseña, con ellos nos conectaremos más adelante a la maquina virtual. También seleccinoar una localicación cercana a la nuestra, será donde se encuentre físicamente el servidor que acogerá nuestra maquina virtual.\n",
    "\n",
    "<img src=\"img/1-AzureVM/3-Azure-Location.png\">\n",
    "\n",
    "* **Size**: Después de introducir la información básica, debemos seleccionar el tamaño de la instancia que queremos crear. Por defecto nos ofrecen una recomendación de tamaño moderado (7GB de Ram y 14GB de memoria SSD). Podemos seleccionar uno más pequeño por ahora, el tamaño lo podremos cambiar más adelante según queramos.\n",
    "\n",
    "<img src=\"img/1-AzureVM/5-Azure-Size.png\">\n",
    "\n",
    "* **Settings**: En este apartado dejamos las selecciones por defecto\n",
    "\n",
    "<img src=\"img/1-AzureVM/4-Azure-Settings.png\">\n",
    "\n",
    "\n",
    "* **Purchase**: Una vez nos validan la selección de la máquina y los settings, pasamos a la ventana de terminos y condiciones. No nos queda más que aceptarla si queremos continuar...\n",
    "\n",
    "<img src=\"img/1-AzureVM/6-Azure-TermCond.png\">\n",
    "\n",
    "* **Deploying**: Al aceptar los terminos y condiciones nos aparece en el dashboard una imagen indicando que nuestra máquina está siendo creada. Este proceso puede tardar hasta varios minutos, así que paciencia.\n",
    "\n",
    "<img src=\"img/1-AzureVM/7-Azure-Deploying.png\">\n",
    "\n",
    "* **Deployed**: Una vez la máquina este lista para usarse nos aparecerá la pantalla con toda su información. Hay que hacer especial atención a la **Public IP address**, es la que nos permitirá acceder a nuestra máquina desde cualquier lugar que estemos via **ssh** con nuestro usuario y contraseña.\n",
    "\n",
    "<img src=\"img/1-AzureVM/8-Azure-Deployed.png\">"
   ]
  },
  {
   "cell_type": "markdown",
   "metadata": {},
   "source": [
    "## 3. Como conectarnos a nuestra instancia via ssh \n",
    "\n",
    "### Qué es ssh?\n",
    "SSH (Secure SHell, en español: intérprete de órdenes seguro) es el nombre de un protocolo y del programa que lo implementa, y sirve para acceder servidores privados a través de una puerta trasera (también llamada backend). Se le asigna el puerto TCP 22.\n",
    "\n",
    "SSH nos permite copiar datos de forma segura (tanto archivos sueltos como simular sesiones FTP cifradas), gestionar claves RSA para no escribir claves al conectar a los dispositivos y pasar los datos de cualquier otra aplicación por un canal seguro tunelizado mediante SSH.\n",
    "\n",
    "[source](https://es.wikipedia.org/wiki/Secure_Shell)\n",
    "\n",
    "### Cómo se usa?\n",
    "En entornos Unix (linux, mac), abrir una terminal escribir:\n",
    "\n",
    "```bash\n",
    "ssh nombreusuario@direccionIPpublica\n",
    "```\n",
    "En entornos windows tendremos que bajarnos un software aparte para emular un entorno Unix\n",
    "\n",
    "### Qué es mobaXterm?\n",
    "Es una terminal mejorada para entornos Windows que nos permite ejecutar los comandos Unix más populares que necesitamos a la hora de trabajar en un servidor remoto. ls, cd, grep, awk, tail, cut, sed, wget, rsync, telnet, ssh, rlogin, rsh...\n",
    "\n",
    "<img src=\"img/1-AzureVM/9-MobaXterm.png\">\n",
    "\n",
    "### Instalando y configurando mobaXterm\n",
    "* Baja e instala mobax desde [aquí](https://mobaxterm.mobatek.net/download-home-edition.html)\n",
    "\n",
    "* Una vez bajado e instalado, ejecuta el programa y haz click sobre el icono de **Session**.\n",
    "\n",
    "<img src=\"img/1-AzureVM/10-MobaXterm-Session.png\">\n",
    "\n",
    "* En la pestaña de settings abierta, seleccionamos **ssh**. Introducimos en el campo **Remote host** la IP pública que de nuestra máquina virtual y clickamos sobre el campo **Specify username**\n",
    "\n",
    "<img src=\"img/1-AzureVM/11-MobaXterm-SSH.png\">\n",
    "\n",
    "* Al lado del campo **Specify usernam**, veremos un icono con un avatar. Clickamos en el boton y nos aparece una pestaña de configuración. En ésta, clickamos sobre **New** e introducimos las credenciales que hemos usado para configurar nuestra maquina virtual.\n",
    "\n",
    "<img src=\"img/1-AzureVM/12-MobaXterm-Password.png\">\n",
    "\n",
    "* Si todo es correcto, nos aparecera el nombre de la configuración en el desplegable donde antes ponia **[default]**. Seleccionamos la nuestra y aceptamos.\n",
    "\n",
    "<img src=\"img/1-AzureVM/13-MobaXterm-OK.png\">\n",
    "\n",
    "* Finalmente, el diálogo de configuración desaparece para dar paso a la terminal. Si todo ha funcionado como debiera, veremos la siguiente pantalla. Vemos que la información del sistema dice \"Welcome to Ubuntu...\". Eso significa que estamos conectados a nuestra máquina virtual!\n",
    "\n",
    "<img src=\"img/1-AzureVM/14-MobaXterm-Connected.png\">\n",
    "\n",
    "Una de las ventajas de mobax es que nos permite navegar por el sistema de ficheros usando la barra lateral izquierda. Además, podemos interactuar con los ficheros de forma remota, editandolos en local y guardándolos directamente en el servidor. También, podemos subir archivos arrastrandolos y soldandolos sobre la barra lateral."
   ]
  },
  {
   "cell_type": "markdown",
   "metadata": {},
   "source": [
    "## 4. Como conectarnos al jupyter notebook de nuestra máquina via el navegador web\n"
   ]
  },
  {
   "cell_type": "markdown",
   "metadata": {},
   "source": [
    "Como habiamos adelantado, las maquinas virtuales dedicadas a Data Science de Azure vienen preconfiguradas con el estado del arte de las tecnologias open source de para el análisis de datos.\n",
    "\n",
    "Una de las herramientas más potentes es la combinación de los notebooks de jupyter con python y todo su ecosistema, que iremos descubriendo a lo largo del curso. A diferencia de otros CSP, la máquina virtual de Azure nos levanta automáticamente un servidor para los jupyters notebooks. (En [éste](https://github.com/juanhuguetgarcia/clouddeeplearning/blob/master/setupjupyteraws.ipynb) tutorial de AWS enseño a cómo montar uno desde cero)\n",
    "\n",
    "Para poder conectarnos, simplemente:\n",
    "\n",
    "* Abre tu navegador web e introduce en la barra de busqueda:\n",
    "```bash\n",
    "https://numeroIPpublico:8000\n",
    "```\n",
    "Veremos aparecer un mensaje de seguridad diciendo que abandonemos el sitio. No lo abandones. Haz click sobre ```mostrar configuración avanzada``` y accede al \"sitio no seguro\".\n",
    "\n",
    "<img src=\"img/1-AzureVM/15-JupyterHub-Browser.png\">\n",
    "\n",
    "* Nos aparecera un login en el que deberemos introducir las credenciales que hemos usado al levantar el cluster.\n",
    "\n",
    "<img src=\"img/1-AzureVM/16-JupyterHub-Login.png\">\n",
    "\n",
    "* Una vez aceptadas las credenciales, podremos acceder a la página principal dónde encontraremos unos cuántos notebooks de ejemplo. A partir de aquí a podemos empezar a trabajar con nuestros datos usando el framework que más nos apetezca!\n",
    "\n",
    "<img src=\"img/1-AzureVM/17-JupyterHub.png\">\n",
    "\n"
   ]
  },
  {
   "cell_type": "markdown",
   "metadata": {},
   "source": [
    " ..."
   ]
  },
  {
   "cell_type": "markdown",
   "metadata": {},
   "source": [
    "### Antes de terminar...\n",
    "\n",
    "Acuerdate de apagar la máquina virtual desde el dashboard. Al apretar STOP los cambios que hayas hecho se guardarán y al estar la máquina virtual apagada te dejarán de facturar. Todos los ficheros que hayas creado/modificado se mantendran hasta que elimines por completo la máquina."
   ]
  },
  {
   "cell_type": "markdown",
   "metadata": {},
   "source": [
    "   "
   ]
  }
 ],
 "metadata": {
  "kernelspec": {
   "display_name": "Python 3",
   "language": "python",
   "name": "python3"
  },
  "language_info": {
   "codemirror_mode": {
    "name": "ipython",
    "version": 3
   },
   "file_extension": ".py",
   "mimetype": "text/x-python",
   "name": "python",
   "nbconvert_exporter": "python",
   "pygments_lexer": "ipython3",
   "version": "3.6.0"
  }
 },
 "nbformat": 4,
 "nbformat_minor": 2
}
