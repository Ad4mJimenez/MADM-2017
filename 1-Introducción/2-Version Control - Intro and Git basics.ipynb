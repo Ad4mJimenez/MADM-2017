{
 "cells": [
  {
   "cell_type": "markdown",
   "metadata": {
    "deletable": true,
    "editable": true
   },
   "source": [
    "# Control de versiones\n",
    "## Git & Github\n",
    "\n",
    "<img src=\"https://imgs.xkcd.com/comics/git.png\" width=\"250\" />\n"
   ]
  },
  {
   "cell_type": "markdown",
   "metadata": {
    "deletable": true,
    "editable": true
   },
   "source": [
    "### Que es git?\n",
    "Git es una seríe de comandos que permiten guardar los cambios que se realizan en ficheros. Esto facilita el trabajo en grupo ya que permite a los distintos integrantes trabajar en el mismo proyecto de forma simultanea sin \"pisar\" el trabajo de otros.\n",
    "\n",
    "Gracias a que se van guardando todos los cambios en los ficheros, podemos restaurar versiones antiguas del proyecto, comparar, analizar, fusionar los cambios, entre otros. A este proceso se le conoce como control de versiones (Version control) y es ampliamente usado en los equipos de ingeniería de software.\n",
    "\n",
    "En esta pequeña introducción veremos los comandos más comunes y básicos que nos permetiran integrar nuestro trabajo con el del resto del equipo y, a partir de aqui, construir un conocimiento más sólido a medida que vamos avanzando."
   ]
  },
  {
   "cell_type": "markdown",
   "metadata": {},
   "source": [
    "### Que es Github?\n",
    "Hemos comentado que git es un sistema que nos permite hacer un control de versiones de nuestro codigo/proyecto. Git es un sistema descentralizado y utiliza nuestro propio disco duro para crear un **repositorio**. Sobre ```git``` existen varios servicios web que permiten guardar una copia en la nube de nuestro propio repositorio. Aunque existen otros, el más utilizado por el común de los mortales de forma pública es [github](https://github.com/).\n",
    "\n",
    "\n",
    "Antes de continuar, debemos tener una cuenta activa o crearnos una en este momento."
   ]
  },
  {
   "cell_type": "markdown",
   "metadata": {},
   "source": [
    "# Tutorial"
   ]
  },
  {
   "cell_type": "markdown",
   "metadata": {},
   "source": [
    "## Configurar git"
   ]
  },
  {
   "cell_type": "markdown",
   "metadata": {},
   "source": [
    "Para configurar git por primera vez abre una terminal y escribe:\n",
    "\n",
    "```bash\n",
    "git config --global user.name \"My Name\"\n",
    "git config --global user.email myEmail@example.com\n",
    "```"
   ]
  },
  {
   "cell_type": "markdown",
   "metadata": {},
   "source": [
    "## Crear un repositorio local\n"
   ]
  },
  {
   "cell_type": "markdown",
   "metadata": {},
   "source": [
    "Para crear un nuevo repositorio, creamos una carpeta nueva en la que situaremos nuestro proyecto y nos situaremos en ella.\n",
    "\n",
    "```bash\n",
    "mkdir test_repo\n",
    "cd test_repo\n",
    "```\n",
    "\n",
    "Una vez dentro de la carpeta, crearemos un fichero de texto simple. Es buena practica que el primer fichero sea un \"README.md\". Este fichero lo usaremos para ir actualizando la información de nuestro proyecto. Podemos crearlo desde el programa que más nos guste, aunque desde la terminal se puede generar uno de manera sencilla simplemente escribiendo:\n",
    "\n",
    "```bash\n",
    "echo \"# This is a title.\" >> README.md\n",
    "```\n",
    "\n",
    "Una vez creado el fichero inicializaremos el **repositorio** usando el comando:\n",
    "\n",
    "```bash\n",
    "git init\n",
    "Initialized empty Git repository in /test_repo/.git/\n",
    "```\n",
    "\n",
    "Como podéis ver, aunque tengamos el fichero \"README.md\" en la carpeta, nos dice que el repositorio está vacio. De hecho si ejecutamos:\n",
    "\n",
    "```bash\n",
    "git status\n",
    "```\n",
    "\n",
    "Nos devuelve el siguiente mensaje:\n",
    "\n",
    "```\n",
    "On branch master\n",
    "\n",
    "Initial commit\n",
    "\n",
    "Untracked files:\n",
    "  (use \"git add <file>...\" to include in what will be committed)\n",
    "\n",
    "        README.txt\n",
    "```\n",
    "\n",
    "Esto se debe a que somos nosotros los que debemos indicarle que ficheros tiene que empezar a seguir y hasta que no lo hagamos los cambios que vayamos realizando al fichero no se guardaran. Fijate en que **git** ya nos da una pista de como seguir...al usar el comando ```git add FICHERO``` estamos haciendo que el fichero pase al area de ensayo o, en argot git, \"staging area\".\n",
    "\n",
    "```bash\n",
    "git add README.md\n",
    "```\n",
    "\n",
    "Vuelve a ejecutar `git status` y veras que ahora el mensaje ha cambiado. De hecho nos dice algo como:\n",
    "\n",
    "```\n",
    "On branch master\n",
    "\n",
    "Initial commit\n",
    "\n",
    "Changes to be committed:\n",
    "  (use \"git rm --cached ...\" to unstage)\n",
    "\n",
    "    new file:   README.md\n",
    "```\n",
    "\n",
    "Este nuevo mensaje nos dice que el fichero esta listo para ser \"committed\". Un \"commit\" es una copia de nuestro fichero en un momento dado del tiempo que podremos recuperar siempre que queramos. Para crear un \"commit nuevo\" necesitamos que al menos un fichero este modificado en el area de \"stage\".\n",
    "\n",
    "Para hacerlo, simplemente tenemos que ejecutar:\n",
    "\n",
    "```bash\n",
    "git commit -m \"Este es el primer commit. Añade el fichero README.md\"\n",
    "```\n",
    "\n",
    "Para ver la lista de commits, ejecuta:\n",
    "\n",
    "```bash\n",
    "git log\n",
    "```\n",
    "\n",
    "Ejercicios:\n",
    "1. Modifica el archivo README.md\n",
    "2. Añade los cambios al area de \"staging\"\n",
    "3. Haz commit de los cambios\n",
    "3. Checkea el histórico de commits \n",
    "\n",
    "Extra:\n",
    "4. Intenta buscar por internet como revertir los cambios al primer commit sin perder informacion\n"
   ]
  },
  {
   "cell_type": "code",
   "execution_count": null,
   "metadata": {
    "collapsed": true
   },
   "outputs": [],
   "source": [
    " "
   ]
  }
 ],
 "metadata": {
  "kernelspec": {
   "display_name": "Python 3",
   "language": "python",
   "name": "python3"
  },
  "language_info": {
   "codemirror_mode": {
    "name": "ipython",
    "version": 3
   },
   "file_extension": ".py",
   "mimetype": "text/x-python",
   "name": "python",
   "nbconvert_exporter": "python",
   "pygments_lexer": "ipython3",
   "version": "3.5.2"
  }
 },
 "nbformat": 4,
 "nbformat_minor": 2
}
