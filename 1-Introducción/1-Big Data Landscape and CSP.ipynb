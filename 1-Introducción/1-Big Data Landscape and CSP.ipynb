{
 "cells": [
  {
   "cell_type": "markdown",
   "metadata": {},
   "source": [
    "# The big data landscape at 2017"
   ]
  },
  {
   "cell_type": "markdown",
   "metadata": {},
   "source": [
    "<img src=\"img/Matt-Turck-FirstMark-2017-Big-Data-Landscape.png\">\n",
    "\n",
    "[source](http://mattturck.com/bigdata2017/)"
   ]
  },
  {
   "cell_type": "markdown",
   "metadata": {},
   "source": [
    "# Cloud services in the industry"
   ]
  },
  {
   "cell_type": "markdown",
   "metadata": {},
   "source": [
    "<img src=\"https://imgs.xkcd.com/comics/the_cloud.png\" width=\"600\">\n",
    "\n",
    "Cloud service providers (CSP) \n",
    "\n",
    "[A 2016 survey on CSP](https://clutch.co/cloud#survey) reveals that:\n",
    "\n",
    "1. 83% of respondents use one of the **big four cloud service providers** the most: Microsoft Azure (23%), Amazon Web Services (AWS) 2. (22%), Google Cloud (21%), and IBM Cloud (17%).\n",
    "3. Nearly half of enterprises, 47%, identify **increased efficiency** as the main benefit of cloud computing.\n",
    "4. 70% of enterprises use cloud infrastructure **primarily for file storage**.\n",
    "5. More than half of enterprises, **53%, hire an external, professional consulting firm to implement cloud infrastructure.**\n",
    "6. 90% of enterprises plan to increase or maintain annual spending on cloud computing in 2016.\n"
   ]
  },
  {
   "cell_type": "markdown",
   "metadata": {
    "collapsed": true
   },
   "source": [
    "# Cloud services for data science/analysis\n",
    "\n",
    "Cloud platforms provides **data scientists** key technology and **tools** to **extract** tangible business **value** from **massive data assets**. From managed Spark clusters and fast SQL analysis to the latest in machine learning and deep learning, **data science** is **greedy in terms of infrastructure** and always asking for more resources. Moreover, **setting up a complete** data science **environment** from the ground it is **not** an **easy** task and can take from us valuable research time.\n",
    "\n",
    "Mayor **cloud service providers** permit to set up elastic **data science environments** by non-experts like us (we are analytics not devops) **ready to be used**. Also, their elasticity allow us to allocate more resources in case of need and **taylor** our own system to **our needs**.\n",
    "\n",
    "\n",
    "The notebook **Crear nuestro entorno en Azure** shows a step by step guide on how to set up a data science environment using Azure and how to connect to it via ssh and to jupyter notebooks.\n",
    "\n",
    "Also, [here](https://github.com/juanhuguetgarcia/clouddeeplearning) you will find a tutorial on how to set up a similar environment using AWS services."
   ]
  }
 ],
 "metadata": {
  "kernelspec": {
   "display_name": "Python 3",
   "language": "python",
   "name": "python3"
  },
  "language_info": {
   "codemirror_mode": {
    "name": "ipython",
    "version": 3
   },
   "file_extension": ".py",
   "mimetype": "text/x-python",
   "name": "python",
   "nbconvert_exporter": "python",
   "pygments_lexer": "ipython3",
   "version": "3.6.0"
  }
 },
 "nbformat": 4,
 "nbformat_minor": 2
}
