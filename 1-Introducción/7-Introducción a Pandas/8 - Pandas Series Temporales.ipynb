{
 "cells": [
  {
   "cell_type": "markdown",
   "metadata": {},
   "source": [
    "# Series Temporales\n",
    "\n",
    "Las series temporales son muestras de valores tomadas a lo largo de un tiempo con un muestro generalmente equidistante. Por ejemplo, registros climatológicos, comprobaciones de seguridad, etc.\n",
    "\n",
    "Pandas gestiona las series temporales usando el indice: un índice que es un fecha (datetime)\n",
    "\n",
    "El indice de un dataframe es el pilar básico de acceso a los valores, por lo cual es más eficiente filtrar, seleccionar, interpolar, ...\n",
    "\n",
    "Nuestros anteriores dataframes tenian un índice númerico. Ahora trabajaremos con índices de tiempo.\n",
    "\n",
    "Documentación: <a target=\"_blank\" href=\"https://pandas.pydata.org/pandas-docs/stable/timeseries.html\">TimeSeries</a>\n"
   ]
  },
  {
   "cell_type": "markdown",
   "metadata": {},
   "source": [
    "### Ejercicio : Prepara el entorno de trabajo con las librerias necesarias"
   ]
  },
  {
   "cell_type": "code",
   "execution_count": null,
   "metadata": {
    "collapsed": true
   },
   "outputs": [],
   "source": []
  },
  {
   "cell_type": "markdown",
   "metadata": {
    "collapsed": true
   },
   "source": [
    "### Ejercicio 1: Abre el archivo 'climaMallorca.csv'."
   ]
  },
  {
   "cell_type": "code",
   "execution_count": null,
   "metadata": {
    "collapsed": true
   },
   "outputs": [],
   "source": []
  },
  {
   "cell_type": "markdown",
   "metadata": {},
   "source": [
    "### Ejercicio 2: Elimina la columna sin nombre"
   ]
  },
  {
   "cell_type": "code",
   "execution_count": null,
   "metadata": {
    "collapsed": true
   },
   "outputs": [],
   "source": []
  },
  {
   "cell_type": "markdown",
   "metadata": {},
   "source": [
    "### Ejercicio 3: Haz una evaluación rápida de los datos"
   ]
  },
  {
   "cell_type": "code",
   "execution_count": null,
   "metadata": {
    "collapsed": true
   },
   "outputs": [],
   "source": []
  },
  {
   "cell_type": "markdown",
   "metadata": {},
   "source": [
    "### Ejercicio 4: Grafica las distribuciones de la velocidad del viento y de la temperatura"
   ]
  },
  {
   "cell_type": "code",
   "execution_count": null,
   "metadata": {
    "collapsed": true
   },
   "outputs": [],
   "source": []
  },
  {
   "cell_type": "markdown",
   "metadata": {},
   "source": [
    "#### Pregunta: Hay algo raro?"
   ]
  },
  {
   "cell_type": "markdown",
   "metadata": {},
   "source": [
    "Responde aquí"
   ]
  },
  {
   "cell_type": "markdown",
   "metadata": {},
   "source": [
    "### Ejercicio 5: Calcula la media de la velocidad del viento del año 2015 (pregunta trampa)"
   ]
  },
  {
   "cell_type": "code",
   "execution_count": null,
   "metadata": {
    "collapsed": true
   },
   "outputs": [],
   "source": []
  },
  {
   "cell_type": "markdown",
   "metadata": {},
   "source": [
    "# pd.to_datetime()\n",
    "## nuestro aliado con las fechas en pandas\n",
    "\n",
    "Al trabajar con fechas, debemos comprobar el tipo de dato en que están y usar el que más nos convenga, normalmente un Datetime.\n",
    "\n",
    "Pandas nos ofrece, cómo siempre, una solución de alto nivel para convertir cadenas de caracteres a formato fecha.\n",
    "\n",
    "Además, al utilizar la fecha como índice, podremos usar funciones específicas para agrupar por diferentes intervalos de tiempo."
   ]
  },
  {
   "cell_type": "markdown",
   "metadata": {},
   "source": [
    "### Ejercicio 6: Aplica la función pd.to_datetime() para convertir la columna idDate a formato fecha"
   ]
  },
  {
   "cell_type": "code",
   "execution_count": null,
   "metadata": {
    "collapsed": true
   },
   "outputs": [],
   "source": []
  },
  {
   "cell_type": "markdown",
   "metadata": {},
   "source": [
    "### Ejercicio 7: Asigna la columna idDate en formato fecha al indice del dataframe"
   ]
  },
  {
   "cell_type": "code",
   "execution_count": null,
   "metadata": {
    "collapsed": true
   },
   "outputs": [],
   "source": []
  },
  {
   "cell_type": "markdown",
   "metadata": {},
   "source": [
    "### Tip\n",
    "\n",
    "Al tener la fecha en el indice, podemos consultar las fechas de forma mucho más facil.\n",
    "Por ejemplo, para filtrar por el año 2015, podríamos filtrar simplemente usando `df.loc['2015']`\n",
    "\n",
    "Echa un vistazo a la ISO 8601: https://es.wikipedia.org/wiki/ISO_8601"
   ]
  },
  {
   "cell_type": "markdown",
   "metadata": {},
   "source": [
    "### Ejercicio 8:  Calcula la media de la velocidad media del viento del año 2015"
   ]
  },
  {
   "cell_type": "code",
   "execution_count": null,
   "metadata": {
    "collapsed": true
   },
   "outputs": [],
   "source": []
  },
  {
   "cell_type": "markdown",
   "metadata": {},
   "source": [
    "### Ejercicio 9:  Calcula la media de la velocidad media del viento del año 2015 y el mes agosto"
   ]
  },
  {
   "cell_type": "code",
   "execution_count": null,
   "metadata": {
    "collapsed": true
   },
   "outputs": [],
   "source": []
  },
  {
   "cell_type": "markdown",
   "metadata": {},
   "source": [
    "### Tip\n",
    "\n",
    "Además de poder filtrar facilmente usando strings, podemos agrupar utilizando la función de pandas:\n",
    "\n",
    "pd.TimeGrouper()\n",
    "\n",
    "Esta función nos permite agregar por:\n",
    "\n",
    "* 'S': segundo\n",
    "* 'T': minuto\n",
    "* 'H': hora\n",
    "* 'W': semana\n",
    "* 'M': mes\n",
    "* 'A': año\n",
    "* 'Q': cutrimestre"
   ]
  },
  {
   "cell_type": "markdown",
   "metadata": {},
   "source": [
    "### Ejercicio 10: Ordena los datos en función del indice"
   ]
  },
  {
   "cell_type": "code",
   "execution_count": null,
   "metadata": {
    "collapsed": true
   },
   "outputs": [],
   "source": []
  },
  {
   "cell_type": "markdown",
   "metadata": {},
   "source": [
    "### Ejercicio 11: Haz un gráfico de la evolución de la temperatura media mensual desde el año 2015"
   ]
  },
  {
   "cell_type": "code",
   "execution_count": null,
   "metadata": {
    "collapsed": true
   },
   "outputs": [],
   "source": []
  },
  {
   "cell_type": "markdown",
   "metadata": {},
   "source": [
    "### Tip\n",
    "\n",
    "Al ser un tipo fecha, podemos acceder a sis propiedades, es decir: año, mes, dia, hora...\n",
    "\n",
    "Aquí todas:\n",
    "http://pandas.pydata.org/pandas-docs/stable/timeseries.html#time-date-components\n"
   ]
  },
  {
   "cell_type": "markdown",
   "metadata": {},
   "source": [
    "### Ejercicio 12: Cuantos años distintos hay en el indice?"
   ]
  },
  {
   "cell_type": "code",
   "execution_count": null,
   "metadata": {
    "collapsed": true
   },
   "outputs": [],
   "source": []
  }
 ],
 "metadata": {
  "kernelspec": {
   "display_name": "Python 3",
   "language": "python",
   "name": "python3"
  },
  "language_info": {
   "codemirror_mode": {
    "name": "ipython",
    "version": 3
   },
   "file_extension": ".py",
   "mimetype": "text/x-python",
   "name": "python",
   "nbconvert_exporter": "python",
   "pygments_lexer": "ipython3",
   "version": "3.6.1"
  }
 },
 "nbformat": 4,
 "nbformat_minor": 2
}
