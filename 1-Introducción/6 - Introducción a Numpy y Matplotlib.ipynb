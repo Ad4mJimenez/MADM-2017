{
 "cells": [
  {
   "cell_type": "markdown",
   "metadata": {},
   "source": [
    "# Introducción a Numpy y Matplotlib"
   ]
  },
  {
   "cell_type": "markdown",
   "metadata": {},
   "source": [
    "<img src=\"img/3-numpy/numpy_logo.jpg\" width=200>\n",
    "\n",
    "# Que es numpy?\n",
    "\n",
    "En la sesión anterior vimos que una de las estrucutras de datos fundamentales en python son las listas. A pesar de ser un elemento muy útil en el mundo de la programación, esta estructura de datos es ineficiente cuando queremos considerar estas listas como vectores.\n",
    "\n",
    "Por ejemplo,\n",
    "\n",
    "```python\n",
    "\n",
    "lista_1 = [1, 2, 3]\n",
    "lista_2 = [2, 3, 4]\n",
    "\n",
    "suma_lista_1_2 = lista_1 + lista_2\n",
    "\n",
    "print(suma_lista)\n",
    "\n",
    "# output\n",
    "[1, 2, 3, 2, 3, 4]\n",
    "```\n",
    "\n",
    "Si quisieramos sumar elemento a elemento, deberíamos crearnos una función con bucles que nos devolviese el vector resultante."
   ]
  },
  {
   "cell_type": "code",
   "execution_count": 7,
   "metadata": {
    "collapsed": true
   },
   "outputs": [],
   "source": [
    "## Escribe una función que dadas dos listas nos\n",
    "## devuelva la suma elemento a elemento.\n",
    "## Ojo! Acuerdate de comprobar que son del mismo tamaño!\n",
    "\n",
    "##Extra: Echale un vistazo a la funcion zip() de python.\n",
    "##Usando zip y las list comprehensions podemos reescribir\n",
    "##la función en una linea de forma pythonica!"
   ]
  },
  {
   "cell_type": "markdown",
   "metadata": {},
   "source": [
    "Como veis en el ejemplo anterior, no solo es innecesariamente complicado si no que es ineficiente cuando queremos tratar con vectores de gran tamaño. Sería conveniente tener operaciones definidas para este tipo de problemas.\n",
    "\n",
    "Eso es exactamente lo que hace **Numpy**. Interpreta las listas como vectores numéricos y nos permite realizar operaciones de algebra lineal de forma eficiente.\n",
    "\n",
    "Por si no fuera poco, **Numpy** está escrito en **C**, uno de los lenguajes de programación más [rápidos](https://attractivechaos.github.io/plb/). Además de proporcionarnos velocidad a la hora de realizar cálculos algebráicos, sirve cómo interfaz para comunicarse con funcionalidades escritas en **C** y en **Fortran**. Ésta es la razón principal por la **Numpy** nos importa cómo analistas o cientificos de datos, aunque no trabajemos directamente en algebra: los principales módulos para el análisis de datos (pandas y sklearn) se basan en **Numpy**, por lo que entender su estructura y uso nos facilitara la comprensión de las librerias de más alto nivel.\n",
    "\n"
   ]
  },
  {
   "cell_type": "code",
   "execution_count": 8,
   "metadata": {
    "collapsed": true
   },
   "outputs": [],
   "source": [
    "## importar numpy bajo el alias np"
   ]
  },
  {
   "cell_type": "markdown",
   "metadata": {},
   "source": [
    "## `np.array` y `np.ndarray`\n",
    "\n",
    "### `np.ndarray`\n",
    "\n",
    "De la [documentación](https://docs.scipy.org/doc/numpy-1.13.0/reference/arrays.html) oficial:\n",
    "\n",
    ">  Describes an N-dimensional collection of “items” of the same type.\n",
    "\n",
    "### `np.array`\n",
    "\n",
    "Es un metodo de numpy que nos permite crear np.ndarray\n"
   ]
  },
  {
   "cell_type": "markdown",
   "metadata": {},
   "source": [
    "### Crear un array a partir de listas\n",
    "\n",
    "Para crear un array a partir de una lista, simplemente debemos pasar la lista como argumento a la función np.array()\n",
    "\n",
    "```python\n",
    "\n",
    "mi_lista = [1, 2, 3]\n",
    "\n",
    "mi_array = np.array(mi_lista)\n",
    "\n",
    "print(type(mi_array))\n",
    "```\n",
    "\n",
    "También, podemos crear un array a partir de una lista de listas.\n",
    "\n",
    "```python\n",
    "\n",
    "mi_lista_anidada = [[1, 2, 3],\n",
    "                    [4, 5, 6]]\n",
    "\n",
    "mi_array_2d = np.array(mi_lista_anidada)\n",
    "```\n",
    "                   "
   ]
  },
  {
   "cell_type": "code",
   "execution_count": 13,
   "metadata": {
    "collapsed": true
   },
   "outputs": [],
   "source": [
    "## Crea un ndarray a partir de una lista anidada\n"
   ]
  },
  {
   "cell_type": "markdown",
   "metadata": {},
   "source": [
    "## Atributos de np.ndarray\n",
    "\n",
    "Cada array tiene los atributos:\n",
    "\n",
    "* `ndim`: el número de dimensionesthe number of dimensiones\n",
    "* `shape`: el tamaño de cada dimensión\n",
    "* `size`: el tamaño total del array"
   ]
  },
  {
   "cell_type": "code",
   "execution_count": 16,
   "metadata": {
    "collapsed": true
   },
   "outputs": [],
   "source": [
    "## Comprueba los atributos del array creado antes"
   ]
  },
  {
   "cell_type": "markdown",
   "metadata": {},
   "source": [
    "## Arrays de números aleatorios\n",
    "\n",
    "Numpy tiene una funcionalidad muy útil para generar datos de forma aleatoria o siguiendo alguna distribución estadística.\n",
    "\n",
    "```python\n",
    "gauss_dist = np.random.normal(loc=0,\n",
    "                              scale=1,\n",
    "                              size=(1000, 2))\n",
    "```"
   ]
  },
  {
   "cell_type": "code",
   "execution_count": 41,
   "metadata": {
    "collapsed": true
   },
   "outputs": [],
   "source": [
    "## inicializar un vector aleatorio de enteros\n",
    "np.random.seed(0)  # semilla for reproducibility\n",
    "\n",
    "x1 = np.random.randint(10, size=6)  # One-dimensional array\n",
    "x2 = np.random.randint(10, size=(3, 4))  # Two-dimensional array"
   ]
  },
  {
   "cell_type": "code",
   "execution_count": 59,
   "metadata": {},
   "outputs": [],
   "source": [
    "## crea un array de 200 filas y 3 columnas aleatorio que siga una distribución\n",
    "## de poisson"
   ]
  },
  {
   "cell_type": "markdown",
   "metadata": {},
   "source": [
    "## Indexing\n",
    "Sigue un patron similar a las listas de python.\n",
    "\n",
    "Para acceder al $i^{th}$ elemento de una array 1-dimensional se sigue la sintaxis de braquets.\n",
    "\n",
    "Para acceder al $i^{th}$ elemento de una array 2-dimensional se sigue la sintaxis de braquets con los indices separados por comas."
   ]
  },
  {
   "cell_type": "code",
   "execution_count": 61,
   "metadata": {
    "collapsed": true
   },
   "outputs": [],
   "source": [
    "## accede al primer, tercer y quinto elemento de x1."
   ]
  },
  {
   "cell_type": "code",
   "execution_count": 64,
   "metadata": {},
   "outputs": [],
   "source": [
    "## accede al elemento de la primera fila y segunda columna de x2"
   ]
  },
  {
   "cell_type": "markdown",
   "metadata": {},
   "source": [
    "## Slicing\n",
    "\n",
    "De la misma forma que hacemos \"slices\" de listas en python podemos crearlos en los np.array.\n",
    "\n",
    "Además, podemos especificar un \"step\", que es la cantidad de elementos que se saltara entre uno y otro.\n",
    "\n",
    "\n",
    "x[start:stop:step]\n",
    "\n",
    "Si no se especifica alguno de ellos, numpy toma el valor por defecto, que son:\n",
    "\n",
    "* start=0\n",
    "* stop=tamaño de la dimensión\n",
    "* step=1"
   ]
  },
  {
   "cell_type": "code",
   "execution_count": 65,
   "metadata": {
    "collapsed": true
   },
   "outputs": [],
   "source": [
    "## Crea un array de una dimension con los numeros del 0 al 9 usando arange"
   ]
  },
  {
   "cell_type": "code",
   "execution_count": 66,
   "metadata": {
    "collapsed": true
   },
   "outputs": [],
   "source": [
    "## Crea un slice que contenga los 3 primeros elementos"
   ]
  },
  {
   "cell_type": "code",
   "execution_count": 67,
   "metadata": {
    "collapsed": true
   },
   "outputs": [],
   "source": [
    "## Crea un slice que contenga los 2 ultimos elementos"
   ]
  },
  {
   "cell_type": "code",
   "execution_count": null,
   "metadata": {
    "collapsed": true
   },
   "outputs": [],
   "source": [
    "## Crea un slice que contenga los elementos uno si y uno no"
   ]
  },
  {
   "cell_type": "markdown",
   "metadata": {},
   "source": [
    "#### Ojo! si el paso es negativo los campos de start y stop se invierten. Es una forma muy conveniente de invertir el orden de un array"
   ]
  },
  {
   "cell_type": "code",
   "execution_count": 81,
   "metadata": {},
   "outputs": [
    {
     "name": "stdout",
     "output_type": "stream",
     "text": [
      "[0 1 2 3 4 5 6 7 8 9]\n",
      "[9 8 7 6 5 4 3 2 1 0]\n"
     ]
    }
   ],
   "source": [
    "ordered = np.arange(10)\n",
    "print(ordered)\n",
    "reverse_order = ordered[::-1] \n",
    "print(reverse_order)"
   ]
  },
  {
   "cell_type": "markdown",
   "metadata": {},
   "source": [
    "## Multidimensiones\n",
    "\n",
    "Hay que especificar el sub-slice en cada una de las dimensiones separados por coma en braquets\n",
    "\n",
    "\n",
    "```python\n",
    "\n",
    "x = np.array([[3, 5, 2, 4],\n",
    "              [7, 6, 8, 8],\n",
    "              [1, 6, 7, 7]])\n",
    "# columnas\n",
    "x[:, 2]\n",
    "# output\n",
    "array([2, 8, 7])\n",
    "\n",
    "# filas\n",
    "x[1, :]\n",
    "\n",
    "# output\n",
    "array([7, 6, 8, 8])\n",
    "```"
   ]
  },
  {
   "cell_type": "code",
   "execution_count": 96,
   "metadata": {},
   "outputs": [],
   "source": [
    "## accede a la primera columna"
   ]
  },
  {
   "cell_type": "code",
   "execution_count": 91,
   "metadata": {
    "collapsed": true
   },
   "outputs": [],
   "source": [
    "## accede a la segunda columna"
   ]
  },
  {
   "cell_type": "code",
   "execution_count": 94,
   "metadata": {},
   "outputs": [],
   "source": [
    "## elimina la primera fila"
   ]
  },
  {
   "cell_type": "markdown",
   "metadata": {},
   "source": [
    "## Expresiones matemáticas y funciones útiles\n",
    "\n",
    "Numpy permite evaluar expresiones matematicas y funciones de forma sencilla y eficiente.\n",
    "\n",
    "Por ejemplo:\n",
    "\n",
    "```python\n",
    "\n",
    "x = np.random.randint(10, size=20)\n",
    "\n",
    "add_5_element_wise = x + 5\n",
    "```\n",
    "\n",
    "Suma `5` a cada elemento del array. Esto funciona de forma similar para las funciones aritméticas básicas (+, -, \\*,...)"
   ]
  },
  {
   "cell_type": "code",
   "execution_count": 101,
   "metadata": {},
   "outputs": [],
   "source": [
    "# crea un array aleatorio y multiplica cada uno de sus elementos por 3"
   ]
  },
  {
   "cell_type": "markdown",
   "metadata": {},
   "source": [
    "### Funciones trigonométricas"
   ]
  },
  {
   "cell_type": "code",
   "execution_count": 118,
   "metadata": {
    "collapsed": true
   },
   "outputs": [],
   "source": [
    "# Crea un vector de 5 elementos espaciados de forma homogenea\n",
    "# entre 0 y pi, ambos incluidos\n",
    "x = np.linspace(0, np.pi, 5)"
   ]
  },
  {
   "cell_type": "code",
   "execution_count": 121,
   "metadata": {},
   "outputs": [
    {
     "name": "stdout",
     "output_type": "stream",
     "text": [
      "[ 0.          0.78539816  1.57079633  2.35619449  3.14159265]\n"
     ]
    }
   ],
   "source": [
    "print(x)\n",
    "sin_x = np.sin(x)\n"
   ]
  },
  {
   "cell_type": "code",
   "execution_count": 113,
   "metadata": {},
   "outputs": [],
   "source": [
    "# demuestra el teorema fundamental de la trigonometria"
   ]
  },
  {
   "cell_type": "markdown",
   "metadata": {},
   "source": [
    "## Exponentes y logaritmos"
   ]
  },
  {
   "cell_type": "code",
   "execution_count": 122,
   "metadata": {},
   "outputs": [
    {
     "name": "stdout",
     "output_type": "stream",
     "text": [
      "x     = [1, 2, 3]\n",
      "e^x   = [  2.71828183   7.3890561   20.08553692]\n",
      "2^x   = [ 2.  4.  8.]\n",
      "3^x   = [ 3  9 27]\n"
     ]
    }
   ],
   "source": [
    "x = [1, 2, 3]\n",
    "print(\"x     =\", x)\n",
    "print(\"e^x   =\", np.exp(x))\n",
    "print(\"2^x   =\", np.exp2(x))\n",
    "print(\"3^x   =\", np.power(3, x))"
   ]
  },
  {
   "cell_type": "code",
   "execution_count": 123,
   "metadata": {},
   "outputs": [
    {
     "name": "stdout",
     "output_type": "stream",
     "text": [
      "x        = [1, 2, 4, 10]\n",
      "ln(x)    = [ 0.          0.69314718  1.38629436  2.30258509]\n",
      "log2(x)  = [ 0.          1.          2.          3.32192809]\n",
      "log10(x) = [ 0.          0.30103     0.60205999  1.        ]\n"
     ]
    }
   ],
   "source": [
    "x = [1, 2, 4, 10]\n",
    "print(\"x        =\", x)\n",
    "print(\"ln(x)    =\", np.log(x))\n",
    "print(\"log2(x)  =\", np.log2(x))\n",
    "print(\"log10(x) =\", np.log10(x))"
   ]
  },
  {
   "cell_type": "markdown",
   "metadata": {},
   "source": [
    "Unas transformaciones muy útiles cuando lidiamos con valores pequeños son:"
   ]
  },
  {
   "cell_type": "code",
   "execution_count": 124,
   "metadata": {},
   "outputs": [
    {
     "name": "stdout",
     "output_type": "stream",
     "text": [
      "exp(x) - 1 = [ 0.          0.0010005   0.01005017  0.10517092]\n",
      "log(1 + x) = [ 0.          0.0009995   0.00995033  0.09531018]\n"
     ]
    }
   ],
   "source": [
    "x = [0, 0.001, 0.01, 0.1]\n",
    "print(\"exp(x) - 1 =\", np.expm1(x))\n",
    "print(\"log(1 + x) =\", np.log1p(x))"
   ]
  },
  {
   "cell_type": "markdown",
   "metadata": {},
   "source": [
    "### Ejercicios\n",
    "\n",
    "Utiliza el cheatsheet disponible o busca las funcionalidades pertinentes\n",
    "\n",
    "1. Crea una matriz identidad de $4 \\times 4$\n",
    "2. Genera el array siguiente sin crear la lista\n",
    "```\n",
    "1 2 3\n",
    "4 5 6\n",
    "7 8 9\n",
    "```\n",
    "3. Genera una matrix aleatoria de $4 \\times 4 \\times 4$ con números distribuidos siguiendo una gaussiana\n",
    "4. Genear `n` intervalos entre 0 and 1 distribuidos de forma logarítmica"
   ]
  }
 ],
 "metadata": {
  "kernelspec": {
   "display_name": "Python 3",
   "language": "python",
   "name": "python3"
  },
  "language_info": {
   "codemirror_mode": {
    "name": "ipython",
    "version": 3
   },
   "file_extension": ".py",
   "mimetype": "text/x-python",
   "name": "python",
   "nbconvert_exporter": "python",
   "pygments_lexer": "ipython3",
   "version": "3.6.1"
  }
 },
 "nbformat": 4,
 "nbformat_minor": 2
}
